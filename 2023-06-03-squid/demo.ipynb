{
 "cells": [
  {
   "cell_type": "code",
   "execution_count": null,
   "id": "9a9f4f4a",
   "metadata": {},
   "outputs": [],
   "source": [
    "import cirq\n",
    "from mitiq import zne, pec, benchmarks"
   ]
  },
  {
   "cell_type": "code",
   "execution_count": null,
   "id": "d3c89f4f",
   "metadata": {},
   "outputs": [],
   "source": [
    "circuit = benchmarks.generate_rb_circuits(n_qubits=2, num_cliffords=50)[0]\n",
    "\n",
    "print(circuit)"
   ]
  },
  {
   "cell_type": "code",
   "execution_count": null,
   "id": "b942919d",
   "metadata": {},
   "outputs": [],
   "source": [
    "def execute(circuit, noise_level=0.001):\n",
    "    \"\"\"Returns Tr[ρ |0⟩⟨0|] where ρ is the state prepared by the circuit with depolarizing noise.\"\"\"\n",
    "    noisy_circuit = circuit.with_noise(cirq.depolarize(p=noise_level))\n",
    "    return (\n",
    "        cirq.DensityMatrixSimulator()\n",
    "        .simulate(noisy_circuit)\n",
    "        .final_density_matrix[0, 0]\n",
    "        .real\n",
    "    )"
   ]
  },
  {
   "cell_type": "code",
   "execution_count": null,
   "id": "22dba4c1",
   "metadata": {},
   "outputs": [],
   "source": [
    "true_value = execute(circuit, noise_level=0.0)      # Ideal quantum computer.\n",
    "noisy_value = execute(circuit)                      # Noisy quantum computer.\n",
    "zne_value = zne.execute_with_zne(circuit, execute)  # Noisy quantum computer + Mitiq.\n",
    "\n",
    "print(f\"Error (w/o  Mitiq): %0.4f\" % abs((true_value - noisy_value) / true_value))\n",
    "print(f\"Error (with Mitiq): %0.4f\" % abs((true_value - zne_value) / true_value))"
   ]
  },
  {
   "cell_type": "code",
   "execution_count": null,
   "id": "60af2d1e",
   "metadata": {},
   "outputs": [],
   "source": [
    "qubit = cirq.LineQubit(0)\n",
    "circ = cirq.Circuit([cirq.H(qubit)])\n",
    "\n",
    "print(circ)"
   ]
  },
  {
   "cell_type": "code",
   "execution_count": null,
   "id": "ec592a7a",
   "metadata": {},
   "outputs": [],
   "source": [
    "rep = pec.represent_operation_with_local_depolarizing_noise(\n",
    "    circ,\n",
    "    noise_level=0.01,\n",
    ")\n",
    "\n",
    "print(rep)"
   ]
  },
  {
   "cell_type": "code",
   "execution_count": null,
   "id": "1de0409b",
   "metadata": {},
   "outputs": [],
   "source": [
    "pec_val = pec.execute_with_pec(\n",
    "    circ,\n",
    "    executor=execute,\n",
    "    representations=[rep],\n",
    "    num_samples=50,\n",
    ")\n",
    "\n",
    "print(\"Mitigated result:\", round(pec_val, 3))"
   ]
  }
 ],
 "metadata": {
  "kernelspec": {
   "display_name": "Python 3.10.8 ('talk')",
   "language": "python",
   "name": "python3"
  },
  "language_info": {
   "codemirror_mode": {
    "name": "ipython",
    "version": 3
   },
   "file_extension": ".py",
   "mimetype": "text/x-python",
   "name": "python",
   "nbconvert_exporter": "python",
   "pygments_lexer": "ipython3",
   "version": "3.10.9"
  },
  "vscode": {
   "interpreter": {
    "hash": "14fd358b5336c1693f8433c41aa1d283c731398ae6422708f1feee3f537c00ed"
   }
  }
 },
 "nbformat": 4,
 "nbformat_minor": 5
}
